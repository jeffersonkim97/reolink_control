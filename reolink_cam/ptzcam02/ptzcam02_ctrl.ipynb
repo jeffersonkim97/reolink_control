{
 "cells": [
  {
   "cell_type": "code",
   "execution_count": 2,
   "metadata": {},
   "outputs": [
    {
     "name": "stdout",
     "output_type": "stream",
     "text": [
      "Login to Camera\n",
      "Login successfull\n",
      "Camera Name: PTZCAM02\n",
      "Camera Channel: [0]\n"
     ]
    },
    {
     "ename": "CancelledError",
     "evalue": "",
     "output_type": "error",
     "traceback": [
      "\u001b[0;31m---------------------------------------------------------------------------\u001b[0m",
      "\u001b[0;31mCancelledError\u001b[0m                            Traceback (most recent call last)",
      "Cell \u001b[0;32mIn[2], line 30\u001b[0m\n\u001b[1;32m     28\u001b[0m \u001b[38;5;66;03m# Pan Stop for 1 sec\u001b[39;00m\n\u001b[1;32m     29\u001b[0m \u001b[38;5;28;01mawait\u001b[39;00m host\u001b[38;5;241m.\u001b[39mset_ptz_command(channel\u001b[38;5;241m=\u001b[39m\u001b[38;5;241m0\u001b[39m, command\u001b[38;5;241m=\u001b[39m\u001b[38;5;124m\"\u001b[39m\u001b[38;5;124mStop\u001b[39m\u001b[38;5;124m\"\u001b[39m, preset\u001b[38;5;241m=\u001b[39m\u001b[38;5;28;01mNone\u001b[39;00m, speed\u001b[38;5;241m=\u001b[39mpan_speed, patrol\u001b[38;5;241m=\u001b[39m\u001b[38;5;28;01mNone\u001b[39;00m)\n\u001b[0;32m---> 30\u001b[0m \u001b[38;5;28;01mawait\u001b[39;00m asyncio\u001b[38;5;241m.\u001b[39msleep(\u001b[38;5;241m1\u001b[39m)\n\u001b[1;32m     32\u001b[0m \u001b[38;5;66;03m# Pan Left for 10 sec with speed 10:\u001b[39;00m\n\u001b[1;32m     33\u001b[0m \u001b[38;5;28;01mawait\u001b[39;00m host\u001b[38;5;241m.\u001b[39mset_ptz_command(channel\u001b[38;5;241m=\u001b[39m\u001b[38;5;241m0\u001b[39m, command\u001b[38;5;241m=\u001b[39m\u001b[38;5;124m\"\u001b[39m\u001b[38;5;124mLeft\u001b[39m\u001b[38;5;124m\"\u001b[39m, preset\u001b[38;5;241m=\u001b[39m\u001b[38;5;28;01mNone\u001b[39;00m, speed\u001b[38;5;241m=\u001b[39mpan_speed, patrol\u001b[38;5;241m=\u001b[39m\u001b[38;5;28;01mNone\u001b[39;00m)\n",
      "File \u001b[0;32m/usr/lib/python3.10/asyncio/tasks.py:605\u001b[0m, in \u001b[0;36msleep\u001b[0;34m(delay, result)\u001b[0m\n\u001b[1;32m    601\u001b[0m h \u001b[38;5;241m=\u001b[39m loop\u001b[38;5;241m.\u001b[39mcall_later(delay,\n\u001b[1;32m    602\u001b[0m                     futures\u001b[38;5;241m.\u001b[39m_set_result_unless_cancelled,\n\u001b[1;32m    603\u001b[0m                     future, result)\n\u001b[1;32m    604\u001b[0m \u001b[38;5;28;01mtry\u001b[39;00m:\n\u001b[0;32m--> 605\u001b[0m     \u001b[38;5;28;01mreturn\u001b[39;00m \u001b[38;5;28;01mawait\u001b[39;00m future\n\u001b[1;32m    606\u001b[0m \u001b[38;5;28;01mfinally\u001b[39;00m:\n\u001b[1;32m    607\u001b[0m     h\u001b[38;5;241m.\u001b[39mcancel()\n",
      "\u001b[0;31mCancelledError\u001b[0m: "
     ]
    }
   ],
   "source": [
    "# Example Patrol PTZ pattern\n",
    "from reolink_aio.api import Host\n",
    "import asyncio\n",
    "\n",
    "# Create a host-object (representing either a camera, or NVR with several channels)\n",
    "# host = Host('192.168.1.219', 'admin', 'tobeor!2b', port=443) #PTZCAM01\n",
    "print('Login to Camera')\n",
    "host = Host('192.168.123.61', 'admin', 'tobeor!2b', port=443) # PTZCAM02 (On Tripod)\n",
    "print('Login successfull')\n",
    "\n",
    "await host.get_host_data()\n",
    "name = host.nvr_name\n",
    "print('Camera Name: ' + str(name))\n",
    "stream_channel_list = host.stream_channels\n",
    "print('Camera Channel: ' + str(stream_channel_list))\n",
    "\n",
    "while True:\n",
    "    # await host.get_host_data()\n",
    "    # ptz_pan_pos = host.ptz_pan_position(channel=0)\n",
    "    # print('PTZ Pan Position: '+str(ptz_pan_pos))\n",
    "\n",
    "    pan_speed = 2\n",
    "\n",
    "    # Pan Right for 10 sec with speed 10:\n",
    "    await host.set_ptz_command(channel=0, command=\"Right\", preset=None, speed=pan_speed, patrol=None)\n",
    "    await asyncio.sleep(30)\n",
    "    \n",
    "    # Pan Stop for 1 sec\n",
    "    await host.set_ptz_command(channel=0, command=\"Stop\", preset=None, speed=pan_speed, patrol=None)\n",
    "    await asyncio.sleep(0.1)\n",
    "\n",
    "    # Pan Left for 10 sec with speed 10:\n",
    "    await host.set_ptz_command(channel=0, command=\"Left\", preset=None, speed=pan_speed, patrol=None)\n",
    "    await asyncio.sleep(30)\n",
    "    \n",
    "    # Pan Stop for 1 sec\n",
    "    await host.set_ptz_command(channel=0, command=\"Stop\", preset=None, speed=pan_speed, patrol=None)\n",
    "    await asyncio.sleep(0.1)"
   ]
  },
  {
   "cell_type": "code",
   "execution_count": 3,
   "metadata": {},
   "outputs": [],
   "source": [
    "await host.set_ptz_command(channel=0, command=\"Stop\", preset=None, speed=10, patrol=None) # Control PTZ"
   ]
  }
 ],
 "metadata": {
  "kernelspec": {
   "display_name": "Python 3",
   "language": "python",
   "name": "python3"
  },
  "language_info": {
   "codemirror_mode": {
    "name": "ipython",
    "version": 3
   },
   "file_extension": ".py",
   "mimetype": "text/x-python",
   "name": "python",
   "nbconvert_exporter": "python",
   "pygments_lexer": "ipython3",
   "version": "3.10.12"
  }
 },
 "nbformat": 4,
 "nbformat_minor": 2
}
