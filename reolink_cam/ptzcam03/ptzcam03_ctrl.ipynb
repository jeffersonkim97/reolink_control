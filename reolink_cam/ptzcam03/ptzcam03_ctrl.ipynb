{
 "cells": [
  {
   "cell_type": "code",
   "execution_count": 29,
   "metadata": {},
   "outputs": [
    {
     "name": "stdout",
     "output_type": "stream",
     "text": [
      "Login to Camera\n",
      "Login successfull\n",
      "Camera Name: PTZCAM03\n",
      "Camera Channel: [0]\n",
      "PTZ Pan Position: 1353\n",
      "PTZ Pan Position: 1351\n",
      "PTZ Pan Position: 1346\n",
      "PTZ Pan Position: 1340\n",
      "PTZ Pan Position: 1336\n",
      "PTZ Pan Position: 1331\n",
      "PTZ Pan Position: 1327\n",
      "PTZ Pan Position: 1322\n",
      "PTZ Pan Position: 1317\n",
      "PTZ Pan Position: 1312\n",
      "PTZ Pan Position: 1308\n",
      "PTZ Pan Position: 1303\n",
      "PTZ Pan Position: 1298\n",
      "PTZ Pan Position: 1294\n",
      "PTZ Pan Position: 1289\n"
     ]
    }
   ],
   "source": [
    "# Example Patrol PTZ pattern\n",
    "from reolink_aio.api import Host\n",
    "import asyncio\n",
    "import numpy as np\n",
    "\n",
    "# Create a host-object (representing either a camera, or NVR with several channels)\n",
    "print('Login to Camera')\n",
    "# host = Host('192.168.123.252', 'admin', 'tobeor!2b', port=443) #PTZCAM01\n",
    "# host = Host('192.168.123.61', 'admin', 'tobeor!2b', port=443) # PTZCAM02 (On Tripod)\n",
    "host = Host('192.168.123.221', 'admin', 'tobeor!2b', port=443) # PTZCAM03 (On Tripod)\n",
    "print('Login successfull')\n",
    "\n",
    "await host.get_host_data()\n",
    "name = host.nvr_name\n",
    "print('Camera Name: ' + str(name))\n",
    "stream_channel_list = host.stream_channels\n",
    "print('Camera Channel: ' + str(stream_channel_list))\n",
    "\n",
    "ang_error = 1\n",
    "target_ang = -135\n",
    "angular_scale = 0.225 # Each increment on ptz_pan_pos = 0.225 (360/1600)\n",
    "\n",
    "while True:\n",
    "    await host.get_host_data()\n",
    "    ptz_pan_pos = host.ptz_pan_position(channel=0)\n",
    "    print('PTZ Pan Position: '+str(ptz_pan_pos))\n",
    "\n",
    "    pan_speed = 1\n",
    "\n",
    "    # Pan Right for 10 sec with speed 10:\n",
    "    await host.set_ptz_command(channel=0, command=\"Left\", preset=None, speed=pan_speed, patrol=None)\n",
    "    # await host.set_ptz_command(channel=0, command=\"Right\", preset=None, speed=pan_speed, patrol=None)\n",
    "    if np.abs(ptz_pan_pos-1289) <= 3:\n",
    "        await host.set_ptz_command(channel=0, command=\"Stop\", preset=None, speed=10, patrol=None) # Control PTZ\n",
    "        break\n",
    "    # await asyncio.sleep(15)\n",
    "\n",
    "    # # Pan Stop for 1 sec\n",
    "    # await host.set_ptz_command(channel=0, command=\"Stop\", preset=None, speed=pan_speed, patrol=None)\n",
    "    # await asyncio.sleep(1)\n",
    "\n",
    "    # # Pan Left for 10 sec with speed 10:\n",
    "    # await host.set_ptz_command(channel=0, command=\"Left\", preset=None, speed=pan_speed, patrol=None)\n",
    "    # await asyncio.sleep(15)\n",
    "\n",
    "    # # Pan Stop for 1 sec\n",
    "    # await host.set_ptz_command(channel=0, command=\"Stop\", preset=None, speed=pan_speed, patrol=None)\n",
    "    # await asyncio.sleep(1)"
   ]
  },
  {
   "cell_type": "code",
   "execution_count": 27,
   "metadata": {},
   "outputs": [],
   "source": [
    "await host.set_ptz_command(channel=0, command=\"Stop\", preset=None, speed=10, patrol=None) # Control PTZ"
   ]
  }
 ],
 "metadata": {
  "kernelspec": {
   "display_name": "Python 3",
   "language": "python",
   "name": "python3"
  },
  "language_info": {
   "codemirror_mode": {
    "name": "ipython",
    "version": 3
   },
   "file_extension": ".py",
   "mimetype": "text/x-python",
   "name": "python",
   "nbconvert_exporter": "python",
   "pygments_lexer": "ipython3",
   "version": "3.10.12"
  }
 },
 "nbformat": 4,
 "nbformat_minor": 2
}
